import pandas as pd
import pyarrow 


df = pd.read_parquet('reklamation24_transport-logistik-full/data/train-00000-of-00001-2966d8d294aca31a.parquet' ,engine='pyarrow')


df



